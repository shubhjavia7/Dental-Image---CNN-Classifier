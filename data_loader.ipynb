{
 "cells": [
  {
   "cell_type": "code",
   "execution_count": 9,
   "metadata": {},
   "outputs": [],
   "source": [
    "from torchvision import datasets, transforms\n",
    "from torch.utils.data import DataLoader\n",
    "\n",
    "# Define transforms\n",
    "transform = transforms.Compose([\n",
    "    transforms.Resize((512, 512)),   # Resize images to a common size\n",
    "    transforms.ToTensor(),           # Convert to tensor\n",
    "    transforms.Normalize([0.5], [0.5])  # Normalize to [-1, 1] assuming grayscale or adapt to RGB\n",
    "])\n",
    "\n",
    "# Load dataset\n",
    "data_path = \"/Users/shubhjavia/Desktop/MSAI/SP'25/AI in Health/High Risk Tutorial/Teeth or Dental Image Dataset\"  # update this to your local path\n",
    "dataset = datasets.ImageFolder(root=data_path, transform=transform)\n",
    "\n",
    "# Split into train and val\n",
    "from torch.utils.data import random_split\n",
    "\n",
    "train_size = int(0.8 * len(dataset))\n",
    "val_size = len(dataset) - train_size\n",
    "train_dataset, val_dataset = random_split(dataset, [train_size, val_size])\n",
    "\n",
    "# DataLoaders\n",
    "train_loader = DataLoader(train_dataset, batch_size=32, shuffle=True)\n",
    "val_loader = DataLoader(val_dataset, batch_size=32)\n"
   ]
  }
 ],
 "metadata": {
  "kernelspec": {
   "display_name": "Python 3",
   "language": "python",
   "name": "python3"
  },
  "language_info": {
   "codemirror_mode": {
    "name": "ipython",
    "version": 3
   },
   "file_extension": ".py",
   "mimetype": "text/x-python",
   "name": "python",
   "nbconvert_exporter": "python",
   "pygments_lexer": "ipython3",
   "version": "3.8.8"
  }
 },
 "nbformat": 4,
 "nbformat_minor": 2
}
